{
 "cells": [
  {
   "cell_type": "markdown",
   "metadata": {},
   "source": [
    "# Vehicle Emissions Breakdown, ICE vs EV per Power Generation Method\n",
    "\n",
    "Two independent variables: power generation method (wind/solar/coal/gas/etc.) and vehicle type (ICE/EV). The dependent variable is grams of CO2 emitted per mile."
   ]
  },
  {
   "cell_type": "code",
   "execution_count": 1,
   "metadata": {},
   "outputs": [
    {
     "data": {
      "text/plain": [
       "MWh_vec_to_CO2_vec"
      ]
     },
     "metadata": {},
     "output_type": "display_data"
    }
   ],
   "source": [
    "################################################################################\n",
    "#  IMPORTS                                                                     #\n",
    "################################################################################\n",
    "using DataFrames\n",
    "using CSV\n",
    "\n",
    "include(\"demand_functions.jl\")"
   ]
  },
  {
   "cell_type": "code",
   "execution_count": 2,
   "metadata": {},
   "outputs": [
    {
     "data": {
      "text/plain": [
       "\"emissions_profile.csv\""
      ]
     },
     "metadata": {},
     "output_type": "display_data"
    }
   ],
   "source": [
    "################################################################################\n",
    "#  CONSTANTS                                                                   #\n",
    "################################################################################\n",
    "\n",
    "# Emissions data for power plants\n",
    "EMP = power_plant_emissions_profile()\n",
    "\n",
    "# Output data file\n",
    "OUTPUT_FILE = \"emissions_profile.csv\""
   ]
  },
  {
   "cell_type": "code",
   "execution_count": null,
   "metadata": {},
   "outputs": [
    {
     "data": {
      "text/plain": [
       "EV_emissions_per_renewable_pct"
      ]
     },
     "metadata": {},
     "output_type": "display_data"
    }
   ],
   "source": [
    "################################################################################\n",
    "#  FUNCTIONS                                                                   #\n",
    "################################################################################\n",
    "\n",
    "\"\"\"\n",
    "    ICE_emissions_per_mile\n",
    "\n",
    "Returns the emissions per mile for an ICE vehicle. Sourced from EPA aggregate\n",
    "data. Units grams of CO2 per mile.\n",
    "\"\"\"\n",
    "function ICE_emissions_per_mile()\n",
    "    return 404.0\n",
    "end\n",
    "\n",
    "\"\"\"\n",
    "    EV_emissions_per_mile(power_profile::NamedTuple{PLANT_CATEGORIES, \n",
    "                                     NTuple{length(PLANT_CATEGORIES), Float64}})\n",
    "\n",
    "Returns the emissions per mile for an EV based on the a given profile of power\n",
    "production. Units grams of CO2 per mile.\n",
    "\"\"\"\n",
    "function EV_emissions_per_mile(power_profile::NamedTuple{PLANT_CATEGORIES, \n",
    "                                     NTuple{length(PLANT_CATEGORIES), Float64}})\n",
    "    # Power requirement for an EV per mile\n",
    "    # 189.2 Wh / Km * 1.60934 Km / mile / 1e6 Wh / MWh = 3.045e-4 MWh / mile\n",
    "    power_per_mile = 3.045e-4\n",
    "\n",
    "    # Convert power profile to power per mile\n",
    "    power_profile_per_mile = plant_pcts_to_MWh_vec(power_profile,\n",
    "                                                                 power_per_mile)\n",
    "\n",
    "    # Compute the emissions for this power level based on the power profile\n",
    "    emissions_per_mile = MWh_vec_to_CO2_vec(power_profile_per_mile, EMP)\n",
    "\n",
    "    # Convert from tons of CO2 to grams of CO2 and return\n",
    "    emissions_per_mile_grams = NamedTuple{keys(emissions_per_mile)}(\n",
    "                             map(x -> x * 100000.0, values(emissions_per_mile)))\n",
    "    return emissions_per_mile_grams\n",
    "end\n",
    "\n",
    "\"\"\"\n",
    "    EV_emissions_per_renewable_pct(pct_renewable::Float64)\n",
    "\n",
    "Returns the emissions per mile for an EV based on the percentage of renewable\n",
    "energy in the power grid. Units grams of CO2 per mile.\n",
    "\"\"\"\n",
    "function EV_emissions_per_renewable_pct(pct_renewable::Float64)\n",
    "    # Compute renewable and non-renewable fractions per fuel type for a given\n",
    "    # renewable percentage\n",
    "    RE_pct = pct_renewable / 6.0         # 6 types of renewable energy\n",
    "    NRE_pct = (1 - pct_renewable) / 5.0  # 5 types of non-renewable energy\n",
    "    return sum(values(EV_emissions_per_mile((;\n",
    "               :BIOMASS    => RE_pct,\n",
    "               :COAL       => NRE_pct,\n",
    "               :GAS        => NRE_pct,\n",
    "               :GEOTHERMAL => RE_pct,\n",
    "               :HYDRO      => RE_pct,\n",
    "               :NUCLEAR    => RE_pct,\n",
    "               :OFSL       => NRE_pct,\n",
    "               :OIL        => NRE_pct,\n",
    "               :OTHF       => NRE_pct,\n",
    "               :SOLAR      => RE_pct,\n",
    "               :WIND       => RE_pct\n",
    "    )))) \n",
    "end"
   ]
  },
  {
   "cell_type": "code",
   "execution_count": 20,
   "metadata": {},
   "outputs": [
    {
     "name": "stdout",
     "output_type": "stream",
     "text": [
      "\u001b[1m12×3 DataFrame\u001b[0m\n",
      "\u001b[1m Row \u001b[0m│\u001b[1m PlantType  \u001b[0m\u001b[1m emissions_grams_per_mile \u001b[0m\u001b[1m percent_of_economy \u001b[0m\n",
      "     │\u001b[90m String     \u001b[0m\u001b[90m Float64                  \u001b[0m\u001b[90m Float64            \u001b[0m\n",
      "─────┼──────────────────────────────────────────────────────────\n",
      "   1 │ BIOMASS                    76.6787            0.0497938\n",
      "   2 │ COAL                      309.126             0.0176023\n",
      "   3 │ GAS                       140.178             0.158024\n",
      "   4 │ GEOTHERMAL                  8.9367            0.0053124\n",
      "   5 │ HYDRO                       0.349993          0.115683\n",
      "   6 │ NUCLEAR                    12.8681            0.00428164\n",
      "   7 │ OFSL                      182.328             0.00142721\n",
      "   8 │ OIL                       244.464             0.0696162\n",
      "   9 │ OTHF                      343.596             0.0238662\n",
      "  10 │ SOLAR                      47.9799            0.44862\n",
      "  11 │ WIND                        0.149448          0.105772\n",
      "  12 │ ICE                       404.0               0.0\n"
     ]
    },
    {
     "data": {
      "text/plain": [
       "\"emissions_profile.csv\""
      ]
     },
     "metadata": {},
     "output_type": "display_data"
    }
   ],
   "source": [
    "################################################################################\n",
    "#  MAIN                                                                        #\n",
    "################################################################################\n",
    "\n",
    "# Collect the total CO2 emissions for each singlet power profile (i.e, 100% of \n",
    "# power from one plant type) and add them to a new dataframe\n",
    "plant_singlet_emissions = DataFrame(PlantType=String[],\n",
    "                                    emissions_grams_per_mile=Float64[],\n",
    "                                    percent_of_economy=Float64[])\n",
    "total_samples = sum(EMP.Samples)\n",
    "for plant_type in PLANT_CATEGORIES\n",
    "    zero_profile = NamedTuple{PLANT_CATEGORIES}(ntuple(_ -> 0.0,\n",
    "                                                      length(PLANT_CATEGORIES)))\n",
    "    power_profile = (; zero_profile..., plant_type => 1.0)\n",
    "    plant_row_idx = findall(EMP.PlantType .== string(plant_type))[1]\n",
    "    pct = EMP.Samples[plant_row_idx] / total_samples\n",
    "    push!(plant_singlet_emissions, (PlantType=string(plant_type),\n",
    "      emissions_grams_per_mile=EV_emissions_per_mile(power_profile)[plant_type],\n",
    "      percent_of_economy=pct))\n",
    "end\n",
    "\n",
    "# Add the ICE emissions (conventional gas) per mile to the overall data set \n",
    "# and output to CSV\n",
    "\n",
    "ice_emissions = ICE_emissions_per_mile()\n",
    "push!(plant_singlet_emissions, (\n",
    "    PlantType=\"ICE\",\n",
    "    emissions_grams_per_mile=ice_emissions,\n",
    "    percent_of_economy=0.0  # ICE vehicles are not part of the power economy\n",
    "    )\n",
    ")\n",
    "\n",
    "println(plant_singlet_emissions)\n",
    "\n",
    "CSV.write(OUTPUT_FILE, plant_singlet_emissions)\n"
   ]
  }
 ],
 "metadata": {
  "kernelspec": {
   "display_name": "Julia 1.11.3",
   "language": "julia",
   "name": "julia-1.11"
  },
  "language_info": {
   "file_extension": ".jl",
   "mimetype": "application/julia",
   "name": "julia",
   "version": "1.11.3"
  }
 },
 "nbformat": 4,
 "nbformat_minor": 4
}
